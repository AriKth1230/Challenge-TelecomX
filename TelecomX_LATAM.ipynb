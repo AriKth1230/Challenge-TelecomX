{
 "cells": [
  {
   "cell_type": "markdown",
   "metadata": {},
   "source": [
    "# Telecom X - Análisis de Evasión de Clientes (LATAM)\n",
    "\n",
    "La empresa enfrenta una alta tasa de cancelaciones y necesita comprender los factores que llevan a la pérdida de clientes.\n",
    "\n",
    "**El análisis contiene:**\n",
    "- Importación y manipulación de datos desde una API\n",
    "- ETL (Extracción, Transformación y Carga)\n",
    "- Visualizaciones estratégicas para identificar patrones y tendencias\n",
    "- EDA e informe con insights relevantes\n"
   ]
  },
  {
   "cell_type": "markdown",
   "metadata": {},
   "source": [
    "##  Preparación (Imports y Configuración)\n"
   ]
  },
  {
   "cell_type": "code",
   "execution_count": null,
   "metadata": {},
   "outputs": [],
   "source": [
    "import pandas as pd\n",
    "import numpy as np\n",
    "import requests, json\n",
    "import matplotlib.pyplot as plt\n",
    "from IPython.display import display\n",
    "\n",
    "pd.set_option('display.max_columns', None)\n",
    "plt.rcParams['figure.figsize'] = (6,4)\n"
   ]
  },
  {
   "cell_type": "markdown",
   "metadata": {},
   "source": [
    "##  Extracción — Carga desde la API (JSON)\n"
   ]
  },
  {
   "cell_type": "code",
   "execution_count": null,
   "metadata": {},
   "outputs": [],
   "source": [
    "# API\n",
    "URL = \"https://raw.githubusercontent.com/alura-cursos/challenge2-data-science-LATAM/refs/heads/main/TelecomX_Data.json\"\n",
    "\n",
    "# Accediendo a la API\n",
    "resp = requests.get(URL)\n",
    "resp.raise_for_status()\n",
    "\n",
    "# Recuperando los resultados\n",
    "resultado = json.loads(resp.text)\n",
    "\n",
    "# Obteniendo vista previa del DataFrame base (anidado)\n",
    "df = pd.DataFrame(resultado)\n",
    "display(df.head())\n",
    "df.info()\n"
   ]
  },
  {
   "cell_type": "markdown",
   "metadata": {},
   "source": [
    "##  Transformación — Normalización de columnas anidadas\n"
   ]
  },
  {
   "cell_type": "code",
   "execution_count": null,
   "metadata": {},
   "outputs": [],
   "source": [
    "# Mantener id y objetivo\n",
    "id_churn = df[['customerID', 'Churn']].copy()\n",
    "\n",
    "# Normalización de estructuras anidadas\n",
    "customer = pd.json_normalize(df['customer'])\n",
    "phone    = pd.json_normalize(df['phone'])\n",
    "internet = pd.json_normalize(df['internet'])\n",
    "account  = pd.json_normalize(df['account'])\n",
    "\n",
    "# Concatenación para crear el DataFrame analítico\n",
    "telecom_df = pd.concat([id_churn, customer, phone, internet, account], axis=1)\n",
    "display(telecom_df.sample(4))\n"
   ]
  },
  {
   "cell_type": "markdown",
   "metadata": {},
   "source": [
    "##  Estructura — Renombrado de columnas y verificación\n"
   ]
  },
  {
   "cell_type": "code",
   "execution_count": null,
   "metadata": {},
   "outputs": [],
   "source": [
    "telecom_df.rename(columns={\n",
    "    'customerID': 'id_cliente',\n",
    "    'Churn': 'abandono',\n",
    "    'gender': 'genero',\n",
    "    'SeniorCitizen': 'es_ciudadano_senior',\n",
    "    'Partner': 'tiene_pareja',\n",
    "    'Dependents': 'tiene_dependientes',\n",
    "    'tenure': 'meses_en_empresa',\n",
    "    'PhoneService': 'servicio_telefonico',\n",
    "    'MultipleLines': 'lineas_multiples',\n",
    "    'InternetService': 'tipo_internet',\n",
    "    'OnlineSecurity': 'seguridad_online',\n",
    "    'OnlineBackup': 'respaldo_online',\n",
    "    'DeviceProtection': 'proteccion_dispositivo',\n",
    "    'TechSupport': 'soporte_tecnico',\n",
    "    'StreamingTV': 'tv_streaming',\n",
    "    'StreamingMovies': 'peliculas_streaming',\n",
    "    'Contract': 'tipo_contrato',\n",
    "    'PaperlessBilling': 'factura_electronica',\n",
    "    'PaymentMethod': 'metodo_pago',\n",
    "    'Charges.Monthly': 'cargos_mensuales',\n",
    "    'Charges.Total': 'cargos_totales'\n",
    "}, inplace=True)\n",
    "\n",
    "display(telecom_df.head())\n",
    "telecom_df.info()\n"
   ]
  },
  {
   "cell_type": "markdown",
   "metadata": {},
   "source": [
    "##  Control de calidad (nulos, duplicados, formatos)\n"
   ]
  },
  {
   "cell_type": "code",
   "execution_count": null,
   "metadata": {},
   "outputs": [],
   "source": [
    "print(\"Duplicados exactos:\", telecom_df.duplicated().sum())\n",
    "display(telecom_df.isnull().sum().sort_values(ascending=False))\n"
   ]
  },
  {
   "cell_type": "markdown",
   "metadata": {},
   "source": [
    "##  Limpieza de texto (IDs, contrato, método de pago)\n"
   ]
  },
  {
   "cell_type": "code",
   "execution_count": null,
   "metadata": {},
   "outputs": [],
   "source": [
    "# ID\n",
    "telecom_df['id_cliente'] = telecom_df['id_cliente'].astype(str).str.strip()\n",
    "\n",
    "# Contrato\n",
    "telecom_df['tipo_contrato'] = (telecom_df['tipo_contrato']\n",
    "                               .astype(str).str.lower()\n",
    "                               .str.replace('-', ' ', regex=False)\n",
    "                               .str.replace('_', ' ', regex=False)\n",
    "                               .str.strip())\n",
    "\n",
    "# Método de pago\n",
    "telecom_df['metodo_pago'] = (telecom_df['metodo_pago']\n",
    "                             .astype(str).str.lower()\n",
    "                             .str.replace('\\n', ' ', regex=True)\n",
    "                             .str.strip())\n",
    "\n",
    "display(telecom_df[['id_cliente','tipo_contrato','metodo_pago']].sample(5))\n"
   ]
  },
  {
   "cell_type": "markdown",
   "metadata": {},
   "source": [
    "##  Limpieza numérica (conversiones y nulos críticos)\n"
   ]
  },
  {
   "cell_type": "code",
   "execution_count": null,
   "metadata": {},
   "outputs": [],
   "source": [
    "# Convertir a numérico y tratar nulos\n",
    "telecom_df['cargos_mensuales'] = pd.to_numeric(telecom_df['cargos_mensuales'], errors='coerce')\n",
    "telecom_df['cargos_totales']   = pd.to_numeric(telecom_df['cargos_totales'].replace(' ', np.nan), errors='coerce')\n",
    "telecom_df['meses_en_empresa'] = pd.to_numeric(telecom_df['meses_en_empresa'], errors='coerce', downcast='integer')\n",
    "\n",
    "print(\"Nulos en cargos_totales:\", telecom_df['cargos_totales'].isna().sum())\n",
    "telecom_df = telecom_df.dropna(subset=['cargos_totales'])  # suelen ser clientes muy nuevos o datos incompletos\n",
    "print(\"Tamaño tras limpiar:\", telecom_df.shape)\n"
   ]
  },
  {
   "cell_type": "markdown",
   "metadata": {},
   "source": [
    "##  Estandarización (Yes/No → 1/0) y nueva variable `cuentas_diarias`\n"
   ]
  },
  {
   "cell_type": "code",
   "execution_count": null,
   "metadata": {},
   "outputs": [],
   "source": [
    "# Binarias frecuentes\n",
    "col_binario = ['abandono','tiene_pareja','tiene_dependientes','servicio_telefonico','factura_electronica']\n",
    "for c in col_binario:\n",
    "    if c in telecom_df.columns:\n",
    "        telecom_df[c] = telecom_df[c].astype(str).str.strip().str.title()\n",
    "\n",
    "telecom_df[col_binario] = (telecom_df[col_binario]\n",
    "                           .replace({'Yes':1,'No':0,'':np.nan})\n",
    "                           .fillna(0)\n",
    "                           .astype(int))\n",
    "\n",
    "# Nueva columna: prorrateo a valor diario\n",
    "telecom_df['cuentas_diarias'] = telecom_df['cargos_mensuales'] / 30.0\n",
    "\n",
    "display(telecom_df[['cargos_mensuales','cuentas_diarias']].sample(5))\n",
    "telecom_df.info()\n"
   ]
  },
  {
   "cell_type": "markdown",
   "metadata": {},
   "source": [
    "##  Análisis descriptivo (numéricas)\n"
   ]
  },
  {
   "cell_type": "code",
   "execution_count": null,
   "metadata": {},
   "outputs": [],
   "source": [
    "desc = telecom_df[['meses_en_empresa','cargos_mensuales','cargos_totales','cuentas_diarias']].describe()\n",
    "display(desc)\n",
    "\n",
    "skew = telecom_df[['meses_en_empresa','cargos_mensuales','cargos_totales','cuentas_diarias']].skew()\n",
    "kurt = telecom_df[['meses_en_empresa','cargos_mensuales','cargos_totales','cuentas_diarias']].kurt()\n",
    "display(pd.DataFrame({'skew':skew,'kurtosis':kurt}))\n"
   ]
  },
  {
   "cell_type": "markdown",
   "metadata": {},
   "source": [
    "##  Distribución de la variable de evasión (`abandono`)\n"
   ]
  },
  {
   "cell_type": "code",
   "execution_count": null,
   "metadata": {},
   "outputs": [],
   "source": [
    "abandono_counts = telecom_df['abandono'].value_counts().sort_index()\n",
    "labels = ['Permanece (0)', 'Abandona (1)']\n",
    "\n",
    "# Barras\n",
    "plt.figure()\n",
    "plt.bar(labels, abandono_counts.values)\n",
    "plt.title('Distribución de Clientes según Abandono')\n",
    "plt.ylabel('Número de Clientes')\n",
    "for i,v in enumerate(abandono_counts.values):\n",
    "    plt.text(i, v*0.98, f'{v}', ha='center', va='top')\n",
    "plt.show()\n",
    "\n",
    "# Pastel\n",
    "plt.figure()\n",
    "plt.pie(abandono_counts.values, labels=labels, autopct='%1.1f%%', startangle=90)\n",
    "plt.title('Proporción de Clientes según Abandono')\n",
    "plt.show()\n"
   ]
  },
  {
   "cell_type": "markdown",
   "metadata": {},
   "source": [
    "##  Churn por variables categóricas (contrato, pago, internet, género)\n"
   ]
  },
  {
   "cell_type": "code",
   "execution_count": null,
   "metadata": {},
   "outputs": [],
   "source": [
    "def churn_por_categoria(df, col):\n",
    "    tab = pd.crosstab(df[col], df['abandono'], normalize='index') * 100\n",
    "    tab.columns = ['% Permanece (0)','% Abandona (1)']\n",
    "    display(tab.sort_values('% Abandona (1)', ascending=False))\n",
    "    ax = tab.plot(kind='bar', stacked=True, figsize=(7,4))\n",
    "    ax.set_title(f'Abandono por {col}')\n",
    "    ax.set_ylabel('Porcentaje')\n",
    "    ax.set_xlabel('')\n",
    "    plt.tight_layout()\n",
    "    plt.show()\n",
    "\n",
    "for c in ['tipo_contrato','metodo_pago','tipo_internet','genero']:\n",
    "    if c in telecom_df.columns:\n",
    "        churn_por_categoria(telecom_df, c)\n"
   ]
  },
  {
   "cell_type": "markdown",
   "metadata": {},
   "source": [
    "##  Churn por rangos (bins) de variables numéricas\n"
   ]
  },
  {
   "cell_type": "code",
   "execution_count": null,
   "metadata": {},
   "outputs": [],
   "source": [
    "def churn_por_bins(df, col, q=5):\n",
    "    df_tmp = df.copy()\n",
    "    df_tmp[f'{col}_bin'] = pd.qcut(df_tmp[col], q=q, duplicates='drop')\n",
    "    tab = pd.crosstab(df_tmp[f'{col}_bin'], df_tmp['abandono'], normalize='index') * 100\n",
    "    tab.columns = ['% Permanece (0)','% Abandona (1)']\n",
    "    display(tab)\n",
    "    ax = tab.plot(kind='bar', figsize=(8,4))\n",
    "    ax.set_title(f'Abandono por rangos de {col}')\n",
    "    ax.set_ylabel('Porcentaje')\n",
    "    ax.set_xlabel('Rango')\n",
    "    plt.tight_layout()\n",
    "    plt.show()\n",
    "\n",
    "for c in ['meses_en_empresa','cargos_mensuales','cargos_totales','cuentas_diarias']:\n",
    "    if c in telecom_df.columns:\n",
    "        churn_por_bins(telecom_df, c, q=5)\n"
   ]
  },
  {
   "cell_type": "markdown",
   "metadata": {},
   "source": [
    "##  Mapa de calor de correlaciones (numéricas)\n"
   ]
  },
  {
   "cell_type": "code",
   "execution_count": null,
   "metadata": {},
   "outputs": [],
   "source": [
    "num_cols = telecom_df.select_dtypes(include=[np.number]).columns\n",
    "corr = telecom_df[num_cols].corr()\n",
    "\n",
    "plt.figure(figsize=(10,6))\n",
    "plt.imshow(corr, cmap='coolwarm', vmin=-1, vmax=1)\n",
    "plt.colorbar(label='Correlación')\n",
    "plt.xticks(range(len(num_cols)), num_cols, rotation=90)\n",
    "plt.yticks(range(len(num_cols)), num_cols)\n",
    "plt.title('Mapa de calor de correlaciones (numéricas)')\n",
    "plt.tight_layout()\n",
    "plt.show()\n",
    "\n",
    "# Vista de correlaciones contra la variable objetivo (si existe)\n",
    "if 'abandono' in corr.columns:\n",
    "    display(corr['abandono'].sort_values(ascending=False))\n"
   ]
  },
  {
   "cell_type": "markdown",
   "metadata": {},
   "source": [
    "##  Conclusiones \n",
    "\n",
    "- **Contrato mensual** suele concentrar mayor churn; los contratos más largos reducen la evasión.  \n",
    "- **Clientes nuevos** (baja tenencia) abandonan más → priorizar retención temprana.  \n",
    "- **Cargos mensuales altos** incrementan el riesgo si no hay valor agregado percibido.  \n",
    "- **Electronic check** suele asociarse con mayor churn vs pagos automáticos.  \n",
    "- **Servicios y engagement** (soporte, seguridad) tienden a disminuir la evasión.\n",
    "\n",
    "## Recomendaciones\n",
    "\n",
    "1. **Onboarding 0–6 meses** con contacto proactivo y beneficios.  \n",
    "2. **Migración a contratos anual/bianual** con incentivos.  \n",
    "3. **Revisión de planes de alto cargo** (bundles de valor/downgrade acompañados).  \n",
    "4. **Fomentar pagos automáticos** (tarjeta/transferencia).  \n",
    "5. **Campañas preventivas** para perfiles de riesgo combinando señales (contrato mensual + baja tenencia + electronic check + cargos altos).\n"
   ]
  }
 ],
 "metadata": {
  "kernelspec": {
   "display_name": "Python 3",
   "language": "python",
   "name": "python3"
  },
  "language_info": {
   "name": "python",
   "version": "3.11.8"
  }
 },
 "nbformat": 4,
 "nbformat_minor": 5
}
